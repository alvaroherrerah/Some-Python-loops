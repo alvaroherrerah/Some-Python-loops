{
 "cells": [
  {
   "cell_type": "code",
   "execution_count": 2,
   "id": "initial_id",
   "metadata": {
    "collapsed": true,
    "ExecuteTime": {
     "end_time": "2024-10-18T17:47:24.343728700Z",
     "start_time": "2024-10-18T17:47:24.335342200Z"
    }
   },
   "outputs": [],
   "source": [
    "Valor1 = 5\n",
    "Valor2 = \"Comienzo a programar\""
   ]
  },
  {
   "cell_type": "code",
   "outputs": [],
   "source": [
    "nombre = input(\"Ingrese su nombre:\")\n",
    "print(f\"El nombre es {nombre}\")"
   ],
   "metadata": {
    "collapsed": false
   },
   "id": "c857949e07cbf413"
  },
  {
   "cell_type": "code",
   "outputs": [
    {
     "name": "stdout",
     "output_type": "stream",
     "text": [
      "El numero es positivo: False\n"
     ]
    }
   ],
   "source": [
    "numero = int(input(\"Ingrese un número del -10 al 10:\"))\n",
    "print(f\"El numero es positivo: {numero > 0}\")"
   ],
   "metadata": {
    "collapsed": false,
    "ExecuteTime": {
     "end_time": "2024-10-18T17:49:45.849390300Z",
     "start_time": "2024-10-18T17:49:44.242124100Z"
    }
   },
   "id": "1844e906def2d410",
   "execution_count": 4
  },
  {
   "cell_type": "code",
   "outputs": [
    {
     "name": "stdout",
     "output_type": "stream",
     "text": [
      "El número mayor es el 89\n"
     ]
    }
   ],
   "source": [
    "numero1 = int(input(\"Ingrese el primer número:\"))\n",
    "numero2 = int(input(\"Ingrese el segundo número:\"))\n",
    "numero3 = int(input(\"Ingrese el tercer número:\"))\n",
    "\n",
    "mayor = max(numero1, numero2, numero3)\n",
    "print(f\"El número mayor es el {mayor}\")"
   ],
   "metadata": {
    "collapsed": false,
    "ExecuteTime": {
     "end_time": "2024-10-18T17:51:45.062721400Z",
     "start_time": "2024-10-18T17:51:41.290565200Z"
    }
   },
   "id": "2361511167553a93",
   "execution_count": 5
  },
  {
   "cell_type": "code",
   "outputs": [
    {
     "name": "stdout",
     "output_type": "stream",
     "text": [
      "El número 1430 está comprendido en el rango\n"
     ]
    }
   ],
   "source": [
    "while True:\n",
    "    pregunta = int(input(\"Ingrese un número entre 1000 y 1500:\"))\n",
    "    if 1000 < pregunta < 1500:\n",
    "        print(f\"El número {pregunta} está comprendido en el rango\")\n",
    "        break\n",
    "        "
   ],
   "metadata": {
    "collapsed": false,
    "ExecuteTime": {
     "end_time": "2024-10-18T17:55:00.756217700Z",
     "start_time": "2024-10-18T17:54:49.077978500Z"
    }
   },
   "id": "996b577ea2512cc6",
   "execution_count": 7
  },
  {
   "cell_type": "code",
   "outputs": [
    {
     "name": "stdout",
     "output_type": "stream",
     "text": [
      "0\n",
      "8\n",
      "16\n",
      "24\n",
      "32\n",
      "40\n",
      "48\n",
      "56\n",
      "64\n",
      "72\n",
      "80\n"
     ]
    }
   ],
   "source": [
    "numero_m = int(input(\"Ingrese un número:\"))\n",
    "for i in range(11): \n",
    "    print(numero_m * i)"
   ],
   "metadata": {
    "collapsed": false,
    "ExecuteTime": {
     "end_time": "2024-10-19T10:10:53.625194800Z",
     "start_time": "2024-10-19T10:10:51.684391900Z"
    }
   },
   "id": "e6d93c88d582e39b",
   "execution_count": 1
  },
  {
   "cell_type": "code",
   "outputs": [
    {
     "name": "stdout",
     "output_type": "stream",
     "text": [
      "El resultado de la multiplicación es: 35.0\n"
     ]
    }
   ],
   "source": [
    "numero1 = float(input(\"Ingrese el primer número:\"))\n",
    "numero2 = float(input(\"Ingrese el segundo número:\"))\n",
    "\n",
    "operacion = int(input(f\"¿Qué operación desea realizar (ingrese un número del 1 al cuatro)?\\n\"\n",
    "                      f\"1. Sumar.\\n\"\n",
    "                      f\"2. Restar.\\n\"\n",
    "                      f\"3. Multiplicar.\\n\"\n",
    "                      f\"4. Dividir.\"))\n",
    "if operacion == 1:\n",
    "    print(f\"El resultado de la suma es: {numero1 + numero2}\")\n",
    "if operacion == 2:\n",
    "    print(f\"El resultado de la resta es: {numero1 - numero2}\")\n",
    "if operacion == 3:\n",
    "    print(f\"El resultado de la multiplicación es: {numero1 * numero2}\")\n",
    "if operacion == 4:\n",
    "    print(f\"El resultado de la división es: {numero1 / numero2}\")"
   ],
   "metadata": {
    "collapsed": false,
    "ExecuteTime": {
     "end_time": "2024-10-19T07:22:39.225967800Z",
     "start_time": "2024-10-19T07:22:31.954875400Z"
    }
   },
   "id": "fe63a0202d22f414",
   "execution_count": 2
  },
  {
   "cell_type": "code",
   "outputs": [
    {
     "name": "stdout",
     "output_type": "stream",
     "text": [
      "Tu nota es: Sobresaliente\n"
     ]
    }
   ],
   "source": [
    "try:\n",
    "    nota = int(input(\"Ingrese su nota:\"))\n",
    "except ValueError:\n",
    "    print(\"La nota debe ser un número entero.\")\n",
    "\n",
    "notas = [\"Suspenso\", \"Aprobado\", \"Notable\", \"Sobresaliente\"]\n",
    "\n",
    "if nota < 5:\n",
    "    print(f\"Tu nota es: {notas[0]}\")\n",
    "if 5 <= nota <= 6:\n",
    "    print(f\"Tu nota es: {notas[1]}\")\n",
    "if 7 <= nota <= 8:\n",
    "    print(f\"Tu nota es: {notas[2]}\")\n",
    "if nota >= 9:\n",
    "    print(f\"Tu nota es: {notas[3]}\")"
   ],
   "metadata": {
    "collapsed": false,
    "ExecuteTime": {
     "end_time": "2024-10-19T07:28:51.785397700Z",
     "start_time": "2024-10-19T07:28:45.489578100Z"
    }
   },
   "id": "2db2b2a4f54141e0",
   "execution_count": 5
  },
  {
   "cell_type": "code",
   "outputs": [
    {
     "name": "stdout",
     "output_type": "stream",
     "text": [
      "ERROR\n",
      "ERROR\n",
      "ERROR\n",
      "ERROR\n",
      "ERROR\n",
      "ERROR\n",
      "ERROR\n",
      "ERROR\n",
      "ERROR\n",
      "ERROR\n",
      "ERROR\n"
     ]
    }
   ],
   "source": [
    "# para que sea infinito simplemente quitar la condición\n",
    "contador = 0\n",
    "while True:\n",
    "    contador += 1\n",
    "    print(\"ERROR\")\n",
    "    if contador >10:\n",
    "        break"
   ],
   "metadata": {
    "collapsed": false,
    "ExecuteTime": {
     "end_time": "2024-10-19T07:30:31.528898800Z",
     "start_time": "2024-10-19T07:30:31.520707600Z"
    }
   },
   "id": "3a737828cb32d399",
   "execution_count": 7
  },
  {
   "cell_type": "code",
   "outputs": [
    {
     "name": "stdout",
     "output_type": "stream",
     "text": [
      "El número que has seleccionado es inferior al número a adivinar.\n",
      "El número que has seleccionado es superior al número a adivinar.\n",
      "El número que has seleccionado es superior al número a adivinar.\n",
      "El número que has seleccionado es inferior al número a adivinar.\n",
      "El número que has seleccionado es inferior al número a adivinar.\n",
      "El número que has seleccionado es inferior al número a adivinar.\n",
      "El número que has seleccionado es inferior al número a adivinar.\n",
      "El número que has seleccionado es inferior al número a adivinar.\n",
      "El número que has seleccionado es inferior al número a adivinar.\n",
      "El número que has seleccionado es inferior al número a adivinar.\n",
      "Has alcanzado el número límite de intentos.6\n"
     ]
    }
   ],
   "source": [
    "numero_adivinar = int(input(\"Ingrese un número del 1 al 1000:\"))\n",
    "limite = 0\n",
    "while True:\n",
    "    numero_segundo_jugador = int(input(\"Adivine el número:\"))\n",
    "    limite += 1\n",
    "    if limite > 10:\n",
    "        print(\"Has alcanzado el número límite de intentos.\")\n",
    "        break\n",
    "    if numero_segundo_jugador > numero_adivinar:\n",
    "        print(\"El número que has seleccionado es superior al número a adivinar.\")\n",
    "    if numero_segundo_jugador < numero_adivinar:\n",
    "        print(\"El número que has seleccionado es inferior al número a adivinar.\")\n",
    "    if numero_segundo_jugador == numero_adivinar:\n",
    "        print(\"Has acertado el número.\")\n",
    "        break"
   ],
   "metadata": {
    "collapsed": false,
    "ExecuteTime": {
     "end_time": "2024-10-19T07:37:47.669860500Z",
     "start_time": "2024-10-19T07:37:25.298627200Z"
    }
   },
   "id": "7e36e815c81cec1",
   "execution_count": 10
  },
  {
   "cell_type": "code",
   "outputs": [],
   "source": [],
   "metadata": {
    "collapsed": false
   },
   "id": "77d5fb592462ba1e"
  },
  {
   "cell_type": "code",
   "outputs": [],
   "source": [
    "# funcion para exportar nuestros datos \n",
    "def exportar_data(usuario, lista_numeros, intentos, acierto_sn):\n",
    "        acierto_texto = \"si\" if acierto_sn == 1 else \"no\"\n",
    "        df = pd.read_excel(\"Datos.xlsx\")\n",
    "        resultados = [{\"Nombre\": usuario,\n",
    "                       \"Lista_numeros\": lista_numeros,\n",
    "                       \"Intentos\": intentos,\n",
    "                       \"Acierto_Numero\": acierto_sn,\n",
    "                       \"Acierto_Texto\": acierto_texto}]\n",
    "        \n",
    "        df = df.append(resultados, ignore_index=True)\n",
    "        df.to_excel('Data.xlsx', index=False)"
   ],
   "metadata": {
    "collapsed": false
   },
   "id": "21cfcf1c5aa7141d"
  }
 ],
 "metadata": {
  "kernelspec": {
   "display_name": "Python 3",
   "language": "python",
   "name": "python3"
  },
  "language_info": {
   "codemirror_mode": {
    "name": "ipython",
    "version": 2
   },
   "file_extension": ".py",
   "mimetype": "text/x-python",
   "name": "python",
   "nbconvert_exporter": "python",
   "pygments_lexer": "ipython2",
   "version": "2.7.6"
  }
 },
 "nbformat": 4,
 "nbformat_minor": 5
}
